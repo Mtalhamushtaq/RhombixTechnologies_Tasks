{
 "cells": [
  {
   "cell_type": "code",
   "execution_count": 173,
   "id": "fb954b2f-fbb9-4804-9545-6dc72572c1c7",
   "metadata": {},
   "outputs": [],
   "source": [
    "import pandas as pd\n",
    "import seaborn as sns\n",
    "import matplotlib.pyplot as plt"
   ]
  },
  {
   "cell_type": "code",
   "execution_count": 174,
   "id": "6abad7e9-79ee-49d1-a4ae-b5e89c76c6b1",
   "metadata": {},
   "outputs": [],
   "source": [
    "dataset=pd.read_csv(r\"C:\\Users\\ESHOP\\OneDrive\\Desktop\\BMW.csv\")"
   ]
  },
  {
   "cell_type": "code",
   "execution_count": 175,
   "id": "e5c84825-61cc-4a21-bcc8-a3aae5732344",
   "metadata": {},
   "outputs": [
    {
     "data": {
      "text/html": [
       "<div>\n",
       "<style scoped>\n",
       "    .dataframe tbody tr th:only-of-type {\n",
       "        vertical-align: middle;\n",
       "    }\n",
       "\n",
       "    .dataframe tbody tr th {\n",
       "        vertical-align: top;\n",
       "    }\n",
       "\n",
       "    .dataframe thead th {\n",
       "        text-align: right;\n",
       "    }\n",
       "</style>\n",
       "<table border=\"1\" class=\"dataframe\">\n",
       "  <thead>\n",
       "    <tr style=\"text-align: right;\">\n",
       "      <th></th>\n",
       "      <th>Model</th>\n",
       "      <th>Year</th>\n",
       "      <th>Region</th>\n",
       "      <th>Color</th>\n",
       "      <th>Fuel_Type</th>\n",
       "      <th>Transmission</th>\n",
       "      <th>Engine_Size_L</th>\n",
       "      <th>Mileage_KM</th>\n",
       "      <th>Price_USD</th>\n",
       "      <th>Sales_Volume</th>\n",
       "      <th>Sales_Classification</th>\n",
       "    </tr>\n",
       "  </thead>\n",
       "  <tbody>\n",
       "    <tr>\n",
       "      <th>0</th>\n",
       "      <td>5 Series</td>\n",
       "      <td>2016.0</td>\n",
       "      <td>Asia</td>\n",
       "      <td>Red</td>\n",
       "      <td>Petrol</td>\n",
       "      <td>Manual</td>\n",
       "      <td>3.5</td>\n",
       "      <td>151748</td>\n",
       "      <td>98740.0</td>\n",
       "      <td>8300.0</td>\n",
       "      <td>High</td>\n",
       "    </tr>\n",
       "    <tr>\n",
       "      <th>1</th>\n",
       "      <td>i8</td>\n",
       "      <td>2013.0</td>\n",
       "      <td>North America</td>\n",
       "      <td>Red</td>\n",
       "      <td>Hybrid</td>\n",
       "      <td>Automatic</td>\n",
       "      <td>1.6</td>\n",
       "      <td>121671</td>\n",
       "      <td>79219.0</td>\n",
       "      <td>3428.0</td>\n",
       "      <td>Low</td>\n",
       "    </tr>\n",
       "    <tr>\n",
       "      <th>2</th>\n",
       "      <td>5 Series</td>\n",
       "      <td>2022.0</td>\n",
       "      <td>North America</td>\n",
       "      <td>Blue</td>\n",
       "      <td>Petrol</td>\n",
       "      <td>Automatic</td>\n",
       "      <td>4.5</td>\n",
       "      <td>10991</td>\n",
       "      <td>113265.0</td>\n",
       "      <td>6994.0</td>\n",
       "      <td>Low</td>\n",
       "    </tr>\n",
       "  </tbody>\n",
       "</table>\n",
       "</div>"
      ],
      "text/plain": [
       "      Model    Year         Region Color Fuel_Type Transmission  \\\n",
       "0  5 Series  2016.0           Asia   Red    Petrol       Manual   \n",
       "1        i8  2013.0  North America   Red    Hybrid    Automatic   \n",
       "2  5 Series  2022.0  North America  Blue    Petrol    Automatic   \n",
       "\n",
       "   Engine_Size_L  Mileage_KM  Price_USD  Sales_Volume Sales_Classification  \n",
       "0            3.5      151748    98740.0        8300.0                 High  \n",
       "1            1.6      121671    79219.0        3428.0                  Low  \n",
       "2            4.5       10991   113265.0        6994.0                  Low  "
      ]
     },
     "execution_count": 175,
     "metadata": {},
     "output_type": "execute_result"
    }
   ],
   "source": [
    "dataset.head(3)"
   ]
  },
  {
   "cell_type": "code",
   "execution_count": 176,
   "id": "6804cfe7-d300-4e1f-a710-019991697e2b",
   "metadata": {},
   "outputs": [
    {
     "data": {
      "text/plain": [
       "Model                    0\n",
       "Year                     9\n",
       "Region                   9\n",
       "Color                    0\n",
       "Fuel_Type               10\n",
       "Transmission            11\n",
       "Engine_Size_L            0\n",
       "Mileage_KM               0\n",
       "Price_USD               10\n",
       "Sales_Volume             6\n",
       "Sales_Classification     0\n",
       "dtype: int64"
      ]
     },
     "execution_count": 176,
     "metadata": {},
     "output_type": "execute_result"
    }
   ],
   "source": [
    "dataset.isnull().sum()\n"
   ]
  },
  {
   "cell_type": "code",
   "execution_count": 177,
   "id": "5c832f01-2b93-4861-af09-9b951c1ca911",
   "metadata": {},
   "outputs": [
    {
     "name": "stdout",
     "output_type": "stream",
     "text": [
      "<class 'pandas.core.frame.DataFrame'>\n",
      "RangeIndex: 50000 entries, 0 to 49999\n",
      "Data columns (total 11 columns):\n",
      " #   Column                Non-Null Count  Dtype  \n",
      "---  ------                --------------  -----  \n",
      " 0   Model                 50000 non-null  object \n",
      " 1   Year                  49991 non-null  float64\n",
      " 2   Region                49991 non-null  object \n",
      " 3   Color                 50000 non-null  object \n",
      " 4   Fuel_Type             49990 non-null  object \n",
      " 5   Transmission          49989 non-null  object \n",
      " 6   Engine_Size_L         50000 non-null  float64\n",
      " 7   Mileage_KM            50000 non-null  int64  \n",
      " 8   Price_USD             49990 non-null  float64\n",
      " 9   Sales_Volume          49994 non-null  float64\n",
      " 10  Sales_Classification  50000 non-null  object \n",
      "dtypes: float64(4), int64(1), object(6)\n",
      "memory usage: 4.2+ MB\n"
     ]
    }
   ],
   "source": [
    "dataset.info()"
   ]
  },
  {
   "cell_type": "code",
   "execution_count": 178,
   "id": "f8ac63bf-ea20-48e4-b3a7-e94796637f7b",
   "metadata": {},
   "outputs": [
    {
     "data": {
      "text/html": [
       "<div>\n",
       "<style scoped>\n",
       "    .dataframe tbody tr th:only-of-type {\n",
       "        vertical-align: middle;\n",
       "    }\n",
       "\n",
       "    .dataframe tbody tr th {\n",
       "        vertical-align: top;\n",
       "    }\n",
       "\n",
       "    .dataframe thead th {\n",
       "        text-align: right;\n",
       "    }\n",
       "</style>\n",
       "<table border=\"1\" class=\"dataframe\">\n",
       "  <thead>\n",
       "    <tr style=\"text-align: right;\">\n",
       "      <th></th>\n",
       "      <th>Model</th>\n",
       "      <th>Region</th>\n",
       "      <th>Color</th>\n",
       "      <th>Fuel_Type</th>\n",
       "      <th>Transmission</th>\n",
       "      <th>Sales_Classification</th>\n",
       "    </tr>\n",
       "  </thead>\n",
       "  <tbody>\n",
       "    <tr>\n",
       "      <th>0</th>\n",
       "      <td>5 Series</td>\n",
       "      <td>Asia</td>\n",
       "      <td>Red</td>\n",
       "      <td>Petrol</td>\n",
       "      <td>Manual</td>\n",
       "      <td>High</td>\n",
       "    </tr>\n",
       "    <tr>\n",
       "      <th>1</th>\n",
       "      <td>i8</td>\n",
       "      <td>North America</td>\n",
       "      <td>Red</td>\n",
       "      <td>Hybrid</td>\n",
       "      <td>Automatic</td>\n",
       "      <td>Low</td>\n",
       "    </tr>\n",
       "    <tr>\n",
       "      <th>2</th>\n",
       "      <td>5 Series</td>\n",
       "      <td>North America</td>\n",
       "      <td>Blue</td>\n",
       "      <td>Petrol</td>\n",
       "      <td>Automatic</td>\n",
       "      <td>Low</td>\n",
       "    </tr>\n",
       "    <tr>\n",
       "      <th>3</th>\n",
       "      <td>X3</td>\n",
       "      <td>Middle East</td>\n",
       "      <td>Blue</td>\n",
       "      <td>Petrol</td>\n",
       "      <td>Automatic</td>\n",
       "      <td>Low</td>\n",
       "    </tr>\n",
       "    <tr>\n",
       "      <th>4</th>\n",
       "      <td>7 Series</td>\n",
       "      <td>South America</td>\n",
       "      <td>Black</td>\n",
       "      <td>Diesel</td>\n",
       "      <td>Manual</td>\n",
       "      <td>Low</td>\n",
       "    </tr>\n",
       "    <tr>\n",
       "      <th>...</th>\n",
       "      <td>...</td>\n",
       "      <td>...</td>\n",
       "      <td>...</td>\n",
       "      <td>...</td>\n",
       "      <td>...</td>\n",
       "      <td>...</td>\n",
       "    </tr>\n",
       "    <tr>\n",
       "      <th>49995</th>\n",
       "      <td>i3</td>\n",
       "      <td>Asia</td>\n",
       "      <td>Red</td>\n",
       "      <td>Hybrid</td>\n",
       "      <td>Manual</td>\n",
       "      <td>High</td>\n",
       "    </tr>\n",
       "    <tr>\n",
       "      <th>49996</th>\n",
       "      <td>i3</td>\n",
       "      <td>Middle East</td>\n",
       "      <td>Silver</td>\n",
       "      <td>Electric</td>\n",
       "      <td>Manual</td>\n",
       "      <td>High</td>\n",
       "    </tr>\n",
       "    <tr>\n",
       "      <th>49997</th>\n",
       "      <td>5 Series</td>\n",
       "      <td>Middle East</td>\n",
       "      <td>Red</td>\n",
       "      <td>Petrol</td>\n",
       "      <td>Automatic</td>\n",
       "      <td>High</td>\n",
       "    </tr>\n",
       "    <tr>\n",
       "      <th>49998</th>\n",
       "      <td>i3</td>\n",
       "      <td>Asia</td>\n",
       "      <td>White</td>\n",
       "      <td>Electric</td>\n",
       "      <td>Automatic</td>\n",
       "      <td>High</td>\n",
       "    </tr>\n",
       "    <tr>\n",
       "      <th>49999</th>\n",
       "      <td>X1</td>\n",
       "      <td>North America</td>\n",
       "      <td>Blue</td>\n",
       "      <td>Diesel</td>\n",
       "      <td>Manual</td>\n",
       "      <td>Low</td>\n",
       "    </tr>\n",
       "  </tbody>\n",
       "</table>\n",
       "<p>50000 rows × 6 columns</p>\n",
       "</div>"
      ],
      "text/plain": [
       "          Model         Region   Color Fuel_Type Transmission  \\\n",
       "0      5 Series           Asia     Red    Petrol       Manual   \n",
       "1            i8  North America     Red    Hybrid    Automatic   \n",
       "2      5 Series  North America    Blue    Petrol    Automatic   \n",
       "3            X3    Middle East    Blue    Petrol    Automatic   \n",
       "4      7 Series  South America   Black    Diesel       Manual   \n",
       "...         ...            ...     ...       ...          ...   \n",
       "49995        i3           Asia     Red    Hybrid       Manual   \n",
       "49996        i3    Middle East  Silver  Electric       Manual   \n",
       "49997  5 Series    Middle East     Red    Petrol    Automatic   \n",
       "49998        i3           Asia   White  Electric    Automatic   \n",
       "49999        X1  North America    Blue    Diesel       Manual   \n",
       "\n",
       "      Sales_Classification  \n",
       "0                     High  \n",
       "1                      Low  \n",
       "2                      Low  \n",
       "3                      Low  \n",
       "4                      Low  \n",
       "...                    ...  \n",
       "49995                 High  \n",
       "49996                 High  \n",
       "49997                 High  \n",
       "49998                 High  \n",
       "49999                  Low  \n",
       "\n",
       "[50000 rows x 6 columns]"
      ]
     },
     "execution_count": 178,
     "metadata": {},
     "output_type": "execute_result"
    }
   ],
   "source": [
    "dataset.select_dtypes(include=\"object\")"
   ]
  },
  {
   "cell_type": "code",
   "execution_count": 179,
   "id": "a7cd6c96-46ff-4533-b0f5-76cab8fc4bc5",
   "metadata": {},
   "outputs": [
    {
     "data": {
      "text/plain": [
       "Model                    0\n",
       "Year                     9\n",
       "Region                   9\n",
       "Color                    0\n",
       "Fuel_Type               10\n",
       "Transmission            11\n",
       "Engine_Size_L            0\n",
       "Mileage_KM               0\n",
       "Price_USD               10\n",
       "Sales_Volume             6\n",
       "Sales_Classification     0\n",
       "dtype: int64"
      ]
     },
     "execution_count": 179,
     "metadata": {},
     "output_type": "execute_result"
    }
   ],
   "source": [
    "dataset.isnull().sum()"
   ]
  },
  {
   "cell_type": "code",
   "execution_count": 180,
   "id": "750bfd31-5f92-41d4-ba19-5e5d40d25ab3",
   "metadata": {},
   "outputs": [
    {
     "data": {
      "text/plain": [
       "'Hybrid'"
      ]
     },
     "execution_count": 180,
     "metadata": {},
     "output_type": "execute_result"
    }
   ],
   "source": [
    "dataset[\"Fuel_Type\"].mode()[0]"
   ]
  },
  {
   "cell_type": "code",
   "execution_count": 181,
   "id": "abe9648c-34c1-463a-9e9e-54fd2d1e1429",
   "metadata": {},
   "outputs": [
    {
     "name": "stderr",
     "output_type": "stream",
     "text": [
      "C:\\Users\\ESHOP\\AppData\\Local\\Temp\\ipykernel_5392\\2258664334.py:1: FutureWarning: A value is trying to be set on a copy of a DataFrame or Series through chained assignment using an inplace method.\n",
      "The behavior will change in pandas 3.0. This inplace method will never work because the intermediate object on which we are setting values always behaves as a copy.\n",
      "\n",
      "For example, when doing 'df[col].method(value, inplace=True)', try using 'df.method({col: value}, inplace=True)' or df[col] = df[col].method(value) instead, to perform the operation inplace on the original object.\n",
      "\n",
      "\n",
      "  dataset[\"Fuel_Type\"].fillna(dataset[\"Fuel_Type\"].mode()[0], inplace=True)\n"
     ]
    }
   ],
   "source": [
    "dataset[\"Fuel_Type\"].fillna(dataset[\"Fuel_Type\"].mode()[0], inplace=True)"
   ]
  },
  {
   "cell_type": "code",
   "execution_count": 182,
   "id": "bafe236d-ef16-4d6e-a73b-534c2b1f2cff",
   "metadata": {},
   "outputs": [
    {
     "data": {
      "text/plain": [
       "'Manual'"
      ]
     },
     "execution_count": 182,
     "metadata": {},
     "output_type": "execute_result"
    }
   ],
   "source": [
    "dataset[\"Transmission\"].mode()[0]"
   ]
  },
  {
   "cell_type": "code",
   "execution_count": 183,
   "id": "854e80a8-f8a6-4560-bc8b-6b20cdd74410",
   "metadata": {},
   "outputs": [
    {
     "name": "stderr",
     "output_type": "stream",
     "text": [
      "C:\\Users\\ESHOP\\AppData\\Local\\Temp\\ipykernel_5392\\1851433084.py:2: FutureWarning: A value is trying to be set on a copy of a DataFrame or Series through chained assignment using an inplace method.\n",
      "The behavior will change in pandas 3.0. This inplace method will never work because the intermediate object on which we are setting values always behaves as a copy.\n",
      "\n",
      "For example, when doing 'df[col].method(value, inplace=True)', try using 'df.method({col: value}, inplace=True)' or df[col] = df[col].method(value) instead, to perform the operation inplace on the original object.\n",
      "\n",
      "\n",
      "  dataset[\"Region\"].fillna(dataset[\"Region\"].mode()[0], inplace=True)\n"
     ]
    }
   ],
   "source": [
    "dataset[\"Region\"].mode()[0]\n",
    "dataset[\"Region\"].fillna(dataset[\"Region\"].mode()[0], inplace=True)"
   ]
  },
  {
   "cell_type": "code",
   "execution_count": 184,
   "id": "59484f4d-e623-4a8a-8bb7-8267d6ffca1d",
   "metadata": {},
   "outputs": [
    {
     "name": "stderr",
     "output_type": "stream",
     "text": [
      "C:\\Users\\ESHOP\\AppData\\Local\\Temp\\ipykernel_5392\\2369360107.py:1: FutureWarning: A value is trying to be set on a copy of a DataFrame or Series through chained assignment using an inplace method.\n",
      "The behavior will change in pandas 3.0. This inplace method will never work because the intermediate object on which we are setting values always behaves as a copy.\n",
      "\n",
      "For example, when doing 'df[col].method(value, inplace=True)', try using 'df.method({col: value}, inplace=True)' or df[col] = df[col].method(value) instead, to perform the operation inplace on the original object.\n",
      "\n",
      "\n",
      "  dataset[\"Transmission\"].fillna(dataset[\"Transmission\"].mode()[0],inplace=True)\n"
     ]
    }
   ],
   "source": [
    "dataset[\"Transmission\"].fillna(dataset[\"Transmission\"].mode()[0],inplace=True)"
   ]
  },
  {
   "cell_type": "code",
   "execution_count": 185,
   "id": "4a674854-f0d9-4720-b8e2-e5e9eeb4da95",
   "metadata": {},
   "outputs": [
    {
     "data": {
      "text/plain": [
       "Index(['Year', 'Engine_Size_L', 'Price_USD', 'Sales_Volume'], dtype='object')"
      ]
     },
     "execution_count": 185,
     "metadata": {},
     "output_type": "execute_result"
    }
   ],
   "source": [
    "dataset.select_dtypes(include=\"float64\").columns"
   ]
  },
  {
   "cell_type": "code",
   "execution_count": 186,
   "id": "7ec4e8f7-7f8f-41eb-9467-46c891db3e46",
   "metadata": {},
   "outputs": [],
   "source": [
    "from sklearn.impute import SimpleImputer"
   ]
  },
  {
   "cell_type": "code",
   "execution_count": 187,
   "id": "894b64b2-02ae-46e5-a676-7340d4c02044",
   "metadata": {},
   "outputs": [],
   "source": [
    "si = SimpleImputer(strategy=\"mean\")"
   ]
  },
  {
   "cell_type": "code",
   "execution_count": 188,
   "id": "3789f80a-4338-4226-ae59-81f5be89e64a",
   "metadata": {},
   "outputs": [],
   "source": [
    "arr=si.fit_transform(dataset[['Price_USD', 'Sales_Volume']])\n",
    "dataset[['Price_USD', 'Sales_Volume']]=pd.DataFrame(arr,columns=['Price_USD', 'Sales_Volume'])"
   ]
  },
  {
   "cell_type": "code",
   "execution_count": 189,
   "id": "f1468f1d-c13c-4264-af61-353ee9b6dbff",
   "metadata": {},
   "outputs": [
    {
     "data": {
      "text/plain": [
       "Model                   0\n",
       "Year                    9\n",
       "Region                  0\n",
       "Color                   0\n",
       "Fuel_Type               0\n",
       "Transmission            0\n",
       "Engine_Size_L           0\n",
       "Mileage_KM              0\n",
       "Price_USD               0\n",
       "Sales_Volume            0\n",
       "Sales_Classification    0\n",
       "dtype: int64"
      ]
     },
     "execution_count": 189,
     "metadata": {},
     "output_type": "execute_result"
    }
   ],
   "source": [
    "dataset.isnull().sum()"
   ]
  },
  {
   "cell_type": "code",
   "execution_count": 190,
   "id": "9c3dd22c-69b5-430a-af54-fca479cdde6f",
   "metadata": {},
   "outputs": [],
   "source": [
    "dataset = dataset.drop_duplicates()"
   ]
  },
  {
   "cell_type": "code",
   "execution_count": 191,
   "id": "5c41fcf6-7b4c-4f8b-8102-f1ddab5a71c6",
   "metadata": {},
   "outputs": [
    {
     "data": {
      "text/plain": [
       "np.float64(2017.0157628373106)"
      ]
     },
     "execution_count": 191,
     "metadata": {},
     "output_type": "execute_result"
    }
   ],
   "source": [
    "dataset[\"Year\"].mean()"
   ]
  },
  {
   "cell_type": "code",
   "execution_count": 192,
   "id": "2fb60566-8d43-4901-bedc-d005fc50fe67",
   "metadata": {},
   "outputs": [
    {
     "name": "stderr",
     "output_type": "stream",
     "text": [
      "C:\\Users\\ESHOP\\AppData\\Local\\Temp\\ipykernel_5392\\2426927687.py:1: FutureWarning: A value is trying to be set on a copy of a DataFrame or Series through chained assignment using an inplace method.\n",
      "The behavior will change in pandas 3.0. This inplace method will never work because the intermediate object on which we are setting values always behaves as a copy.\n",
      "\n",
      "For example, when doing 'df[col].method(value, inplace=True)', try using 'df.method({col: value}, inplace=True)' or df[col] = df[col].method(value) instead, to perform the operation inplace on the original object.\n",
      "\n",
      "\n",
      "  dataset[\"Year\"].fillna(dataset[\"Year\"].mean(), inplace=True)\n"
     ]
    }
   ],
   "source": [
    "dataset[\"Year\"].fillna(dataset[\"Year\"].mean(), inplace=True)"
   ]
  },
  {
   "cell_type": "code",
   "execution_count": 193,
   "id": "160e9607-5819-4e13-966b-bb8cae44a0c8",
   "metadata": {},
   "outputs": [
    {
     "data": {
      "text/plain": [
       "Model                   0\n",
       "Year                    0\n",
       "Region                  0\n",
       "Color                   0\n",
       "Fuel_Type               0\n",
       "Transmission            0\n",
       "Engine_Size_L           0\n",
       "Mileage_KM              0\n",
       "Price_USD               0\n",
       "Sales_Volume            0\n",
       "Sales_Classification    0\n",
       "dtype: int64"
      ]
     },
     "execution_count": 193,
     "metadata": {},
     "output_type": "execute_result"
    }
   ],
   "source": [
    "dataset.isnull().sum()"
   ]
  },
  {
   "cell_type": "code",
   "execution_count": 194,
   "id": "9a8cbd1a-2f76-4ce4-bbb1-6375617f72ad",
   "metadata": {},
   "outputs": [],
   "source": [
    "dataset[\"Year\"] = dataset[\"Year\"].astype(int)"
   ]
  },
  {
   "cell_type": "code",
   "execution_count": 195,
   "id": "c964a590-0758-412e-8674-3f9a6c063850",
   "metadata": {},
   "outputs": [
    {
     "name": "stdout",
     "output_type": "stream",
     "text": [
      "<class 'pandas.core.frame.DataFrame'>\n",
      "RangeIndex: 50000 entries, 0 to 49999\n",
      "Data columns (total 11 columns):\n",
      " #   Column                Non-Null Count  Dtype  \n",
      "---  ------                --------------  -----  \n",
      " 0   Model                 50000 non-null  object \n",
      " 1   Year                  50000 non-null  int64  \n",
      " 2   Region                50000 non-null  object \n",
      " 3   Color                 50000 non-null  object \n",
      " 4   Fuel_Type             50000 non-null  object \n",
      " 5   Transmission          50000 non-null  object \n",
      " 6   Engine_Size_L         50000 non-null  float64\n",
      " 7   Mileage_KM            50000 non-null  int64  \n",
      " 8   Price_USD             50000 non-null  float64\n",
      " 9   Sales_Volume          50000 non-null  float64\n",
      " 10  Sales_Classification  50000 non-null  object \n",
      "dtypes: float64(3), int64(2), object(6)\n",
      "memory usage: 4.2+ MB\n"
     ]
    }
   ],
   "source": [
    "dataset.info()"
   ]
  },
  {
   "cell_type": "code",
   "execution_count": 196,
   "id": "2ec9df28-2d4c-47e5-83c3-9b5e054916a8",
   "metadata": {},
   "outputs": [
    {
     "data": {
      "text/plain": [
       "<Axes: >"
      ]
     },
     "execution_count": 196,
     "metadata": {},
     "output_type": "execute_result"
    },
    {
     "data": {
      "image/png": "[encoded data removed]",
      "text/plain": [
       "<Figure size 640x480 with 2 Axes>"
      ]
     },
     "metadata": {},
     "output_type": "display_data"
    }
   ],
   "source": [
    "sns.heatmap(dataset.isnull())"
   ]
  },
  {
   "cell_type": "code",
   "execution_count": 197,
   "id": "a2d44b52-b5ba-460a-946c-0a9d95bef489",
   "metadata": {},
   "outputs": [
    {
     "data": {
      "text/html": [
       "<div>\n",
       "<style scoped>\n",
       "    .dataframe tbody tr th:only-of-type {\n",
       "        vertical-align: middle;\n",
       "    }\n",
       "\n",
       "    .dataframe tbody tr th {\n",
       "        vertical-align: top;\n",
       "    }\n",
       "\n",
       "    .dataframe thead th {\n",
       "        text-align: right;\n",
       "    }\n",
       "</style>\n",
       "<table border=\"1\" class=\"dataframe\">\n",
       "  <thead>\n",
       "    <tr style=\"text-align: right;\">\n",
       "      <th></th>\n",
       "      <th>Model</th>\n",
       "      <th>Year</th>\n",
       "      <th>Region</th>\n",
       "      <th>Color</th>\n",
       "      <th>Fuel_Type</th>\n",
       "      <th>Transmission</th>\n",
       "      <th>Engine_Size_L</th>\n",
       "      <th>Mileage_KM</th>\n",
       "      <th>Price_USD</th>\n",
       "      <th>Sales_Volume</th>\n",
       "      <th>Sales_Classification</th>\n",
       "    </tr>\n",
       "  </thead>\n",
       "  <tbody>\n",
       "    <tr>\n",
       "      <th>0</th>\n",
       "      <td>5 Series</td>\n",
       "      <td>2016</td>\n",
       "      <td>Asia</td>\n",
       "      <td>Red</td>\n",
       "      <td>Petrol</td>\n",
       "      <td>Manual</td>\n",
       "      <td>3.5</td>\n",
       "      <td>151748</td>\n",
       "      <td>98740.0</td>\n",
       "      <td>8300.0</td>\n",
       "      <td>High</td>\n",
       "    </tr>\n",
       "    <tr>\n",
       "      <th>1</th>\n",
       "      <td>i8</td>\n",
       "      <td>2013</td>\n",
       "      <td>North America</td>\n",
       "      <td>Red</td>\n",
       "      <td>Hybrid</td>\n",
       "      <td>Automatic</td>\n",
       "      <td>1.6</td>\n",
       "      <td>121671</td>\n",
       "      <td>79219.0</td>\n",
       "      <td>3428.0</td>\n",
       "      <td>Low</td>\n",
       "    </tr>\n",
       "    <tr>\n",
       "      <th>2</th>\n",
       "      <td>5 Series</td>\n",
       "      <td>2022</td>\n",
       "      <td>North America</td>\n",
       "      <td>Blue</td>\n",
       "      <td>Petrol</td>\n",
       "      <td>Automatic</td>\n",
       "      <td>4.5</td>\n",
       "      <td>10991</td>\n",
       "      <td>113265.0</td>\n",
       "      <td>6994.0</td>\n",
       "      <td>Low</td>\n",
       "    </tr>\n",
       "  </tbody>\n",
       "</table>\n",
       "</div>"
      ],
      "text/plain": [
       "      Model  Year         Region Color Fuel_Type Transmission  Engine_Size_L  \\\n",
       "0  5 Series  2016           Asia   Red    Petrol       Manual            3.5   \n",
       "1        i8  2013  North America   Red    Hybrid    Automatic            1.6   \n",
       "2  5 Series  2022  North America  Blue    Petrol    Automatic            4.5   \n",
       "\n",
       "   Mileage_KM  Price_USD  Sales_Volume Sales_Classification  \n",
       "0      151748    98740.0        8300.0                 High  \n",
       "1      121671    79219.0        3428.0                  Low  \n",
       "2       10991   113265.0        6994.0                  Low  "
      ]
     },
     "execution_count": 197,
     "metadata": {},
     "output_type": "execute_result"
    }
   ],
   "source": [
    "dataset.head(3)\n"
   ]
  },
  {
   "cell_type": "code",
   "execution_count": 198,
   "id": "70c83e44-837b-457d-87f3-3be31451640b",
   "metadata": {},
   "outputs": [
    {
     "data": {
      "image/png": "[encoded data removed]",
      "text/plain": [
       "<Figure size 640x480 with 1 Axes>"
      ]
     },
     "metadata": {},
     "output_type": "display_data"
    }
   ],
   "source": [
    "sns.boxplot(x= \"Price_USD\", data = dataset)#before removing outlier\n",
    "plt.show()"
   ]
  },
  {
   "cell_type": "code",
   "execution_count": 199,
   "id": "2cf965b0-9244-4382-98d9-8a3b78bfb121",
   "metadata": {},
   "outputs": [
    {
     "data": {
      "text/plain": [
       "np.float64(99899938.0)"
      ]
     },
     "execution_count": 199,
     "metadata": {},
     "output_type": "execute_result"
    }
   ],
   "source": [
    "dataset[\"Price_USD\"].max()"
   ]
  },
  {
   "cell_type": "code",
   "execution_count": 200,
   "id": "6e4e4564-e065-4092-a2f8-c16ca86444bb",
   "metadata": {},
   "outputs": [
    {
     "data": {
      "text/plain": [
       "np.float64(30000.0)"
      ]
     },
     "execution_count": 200,
     "metadata": {},
     "output_type": "execute_result"
    }
   ],
   "source": [
    "dataset[\"Price_USD\"].min()"
   ]
  },
  {
   "cell_type": "code",
   "execution_count": 201,
   "id": "5b4b2632-effa-4bbe-8610-bdb81ad08892",
   "metadata": {},
   "outputs": [
    {
     "data": {
      "text/plain": [
       "np.float64(52443.0)"
      ]
     },
     "execution_count": 201,
     "metadata": {},
     "output_type": "execute_result"
    }
   ],
   "source": [
    "Q1 = dataset[\"Price_USD\"].quantile(0.25)\n",
    "Q1"
   ]
  },
  {
   "cell_type": "code",
   "execution_count": 202,
   "id": "c9c95df2-47e1-4e6e-8b9a-c3008c1d156c",
   "metadata": {},
   "outputs": [
    {
     "data": {
      "text/plain": [
       "np.float64(97629.0)"
      ]
     },
     "execution_count": 202,
     "metadata": {},
     "output_type": "execute_result"
    }
   ],
   "source": [
    "Q3 = dataset[\"Price_USD\"].quantile(0.75)\n",
    "Q3"
   ]
  },
  {
   "cell_type": "code",
   "execution_count": 203,
   "id": "7c2eb9b6-473b-42c0-902e-904108a38926",
   "metadata": {},
   "outputs": [],
   "source": [
    "IQR = Q3 - Q1"
   ]
  },
  {
   "cell_type": "code",
   "execution_count": 204,
   "id": "3c13d39c-dcaf-41c0-8e66-c2472c9480ec",
   "metadata": {},
   "outputs": [
    {
     "data": {
      "text/plain": [
       "np.float64(45186.0)"
      ]
     },
     "execution_count": 204,
     "metadata": {},
     "output_type": "execute_result"
    }
   ],
   "source": [
    "IQR"
   ]
  },
  {
   "cell_type": "code",
   "execution_count": 205,
   "id": "215bfdea-4176-4463-81ec-38ea68ed92d6",
   "metadata": {},
   "outputs": [
    {
     "data": {
      "text/plain": [
       "np.float64(-15336.0)"
      ]
     },
     "execution_count": 205,
     "metadata": {},
     "output_type": "execute_result"
    }
   ],
   "source": [
    "min_range = Q1 -(1.5 * IQR)\n",
    "min_range"
   ]
  },
  {
   "cell_type": "code",
   "execution_count": 206,
   "id": "5e887bbc-8a5d-4130-b949-499d28af3f6e",
   "metadata": {},
   "outputs": [],
   "source": [
    "max_range = Q3 + (1.5 * IQR)"
   ]
  },
  {
   "cell_type": "code",
   "execution_count": 207,
   "id": "e2571cd1-462c-4991-8213-017af0201df0",
   "metadata": {},
   "outputs": [
    {
     "data": {
      "text/plain": [
       "np.float64(165408.0)"
      ]
     },
     "execution_count": 207,
     "metadata": {},
     "output_type": "execute_result"
    }
   ],
   "source": [
    "max_range"
   ]
  },
  {
   "cell_type": "code",
   "execution_count": 208,
   "id": "9a1e25e5-8cec-438f-b2bb-0cb338293c3c",
   "metadata": {},
   "outputs": [],
   "source": [
    "dataset = dataset[dataset[\"Price_USD\"] >= max_range]"
   ]
  },
  {
   "cell_type": "code",
   "execution_count": 209,
   "id": "b79c6cb8-1fb0-4346-bc13-061a1f10dc0e",
   "metadata": {},
   "outputs": [
    {
     "data": {
      "image/png": "[encoded data removed]",
      "text/plain": [
       "<Figure size 640x480 with 1 Axes>"
      ]
     },
     "metadata": {},
     "output_type": "display_data"
    }
   ],
   "source": [
    "sns.boxplot(x= \"Price_USD\", data = dataset)# after removing outlier\n",
    "plt.show()"
   ]
  },
  {
   "cell_type": "code",
   "execution_count": 211,
   "id": "0c0d7eae-9bf2-462d-bfae-b6c67a56b62f",
   "metadata": {},
   "outputs": [
    {
     "data": {
      "text/plain": [
       "np.float64(46685288.5)"
      ]
     },
     "execution_count": 211,
     "metadata": {},
     "output_type": "execute_result"
    }
   ],
   "source": [
    "dataset[\"Price_USD\"].mean()"
   ]
  },
  {
   "cell_type": "code",
   "execution_count": 212,
   "id": "3faf797a-360e-4442-914d-3bc2e9669edc",
   "metadata": {},
   "outputs": [
    {
     "data": {
      "text/plain": [
       "np.float64(44663566.0)"
      ]
     },
     "execution_count": 212,
     "metadata": {},
     "output_type": "execute_result"
    }
   ],
   "source": [
    "dataset[\"Price_USD\"].median()"
   ]
  },
  {
   "cell_type": "code",
   "execution_count": 214,
   "id": "ed5e7c1c-2383-401e-b4aa-a4d310ef61b3",
   "metadata": {},
   "outputs": [
    {
     "data": {
      "text/plain": [
       "np.float64(3029222.0)"
      ]
     },
     "execution_count": 214,
     "metadata": {},
     "output_type": "execute_result"
    }
   ],
   "source": [
    "dataset[\"Price_USD\"].mode()[0]"
   ]
  },
  {
   "cell_type": "code",
   "execution_count": 215,
   "id": "7f7bb25c-cccc-4222-ac8f-d450c8ea29dd",
   "metadata": {},
   "outputs": [
    {
     "data": {
      "text/plain": [
       "np.float64(3029222.0)"
      ]
     },
     "execution_count": 215,
     "metadata": {},
     "output_type": "execute_result"
    }
   ],
   "source": [
    "dataset[\"Price_USD\"].min()"
   ]
  },
  {
   "cell_type": "code",
   "execution_count": 216,
   "id": "90a89a53-b04a-452e-bd32-5cb45a7707bb",
   "metadata": {},
   "outputs": [
    {
     "data": {
      "text/plain": [
       "np.float64(99899938.0)"
      ]
     },
     "execution_count": 216,
     "metadata": {},
     "output_type": "execute_result"
    }
   ],
   "source": [
    "dataset[\"Price_USD\"].max()"
   ]
  },
  {
   "cell_type": "code",
   "execution_count": 217,
   "id": "3b252759-7720-4b70-84a9-b779c3675d3a",
   "metadata": {},
   "outputs": [
    {
     "data": {
      "text/plain": [
       "(6, 11)"
      ]
     },
     "execution_count": 217,
     "metadata": {},
     "output_type": "execute_result"
    }
   ],
   "source": [
    "dataset.shape"
   ]
  },
  {
   "cell_type": "code",
   "execution_count": 226,
   "id": "e34ccc55-1f9b-40fd-8676-b7e34d44177d",
   "metadata": {},
   "outputs": [
    {
     "data": {
      "image/png": "[encoded data removed]",
      "text/plain": [
       "<Figure size 640x480 with 1 Axes>"
      ]
     },
     "metadata": {},
     "output_type": "display_data"
    }
   ],
   "source": [
    "categories = dataset[\"Model\"]\n",
    "values = dataset[\"Sales_Volume\"]\n",
    "\n",
    "# Create bar chart\n",
    "plt.bar(categories, values, color='orange' )\n",
    "\n",
    "# Add labels\n",
    "plt.title('Total Unit sold')\n",
    "plt.xlabel('Model')\n",
    "plt.ylabel('Quantity Sold')\n",
    "\n",
    "# Show the chart\n",
    "plt.show()"
   ]
  },
  {
   "cell_type": "code",
   "execution_count": 252,
   "id": "2d6cac69-c7aa-47ee-8ee3-7be5ebf122e1",
   "metadata": {},
   "outputs": [
    {
     "data": {
      "image/png": "[encoded data removed]",
      "text/plain": [
       "<Figure size 800x500 with 1 Axes>"
      ]
     },
     "metadata": {},
     "output_type": "display_data"
    }
   ],
   "source": [
    "yearly_sales = dataset.groupby(\"Year\")[\"Sales_Volume\"].sum()\n",
    "plt.figure(figsize=(8,5))\n",
    "plt.plot(yearly_sales.index, yearly_sales.values, marker='o', color='skyblue', linewidth=2)\n",
    "plt.title('Sales Volume by Year')\n",
    "plt.xlabel('Year')\n",
    "plt.ylabel('Total Sales Volume')\n",
    "plt.grid(True)\n",
    "plt.show()\n"
   ]
  },
  {
   "cell_type": "code",
   "execution_count": null,
   "id": "1d82d00c-4c35-4915-87af-8d34ea37c5d9",
   "metadata": {},
   "outputs": [],
   "source": []
  }
 ],
 "metadata": {
  "kernelspec": {
   "display_name": "Python 3 (ipykernel)",
   "language": "python",
   "name": "python3"
  },
  "language_info": {
   "codemirror_mode": {
    "name": "ipython",
    "version": 3
   },
   "file_extension": ".py",
   "mimetype": "text/x-python",
   "name": "python",
   "nbconvert_exporter": "python",
   "pygments_lexer": "ipython3",
   "version": "3.13.1"
  }
 },
 "nbformat": 4,
 "nbformat_minor": 5
}
